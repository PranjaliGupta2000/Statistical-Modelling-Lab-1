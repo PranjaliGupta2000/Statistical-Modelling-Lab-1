{
  "nbformat": 4,
  "nbformat_minor": 0,
  "metadata": {
    "colab": {
      "name": "Untitled4.ipynb",
      "provenance": []
    },
    "kernelspec": {
      "name": "python3",
      "display_name": "Python 3"
    },
    "language_info": {
      "name": "python"
    }
  },
  "cells": [
    {
      "cell_type": "code",
      "metadata": {
        "colab": {
          "base_uri": "https://localhost:8080/"
        },
        "id": "Zf01TL0qmo91",
        "outputId": "6bd669fe-afbe-40ff-b4d4-4df4c9b94cfb"
      },
      "source": [
        "# 4.Python program to create a 5X2 integer array from a range between 100 to 200 such that the difference between each element is 10. (use Numpy Library)\n",
        "\n",
        "import numpy as np\n",
        "print(\"Creating 5X2 array using numpy.arange\")\n",
        "Array = np.arange(100, 200, 10)\n",
        "Array = Array.reshape(5,2)\n",
        "print (Array)\n",
        "\n"
      ],
      "execution_count": 3,
      "outputs": [
        {
          "output_type": "stream",
          "name": "stdout",
          "text": [
            "Creating 5X2 array using numpy.arange\n",
            "[[100 110]\n",
            " [120 130]\n",
            " [140 150]\n",
            " [160 170]\n",
            " [180 190]]\n"
          ]
        }
      ]
    }
  ]
}