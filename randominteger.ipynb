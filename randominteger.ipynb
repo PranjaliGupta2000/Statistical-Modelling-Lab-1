{
  "nbformat": 4,
  "nbformat_minor": 0,
  "metadata": {
    "colab": {
      "name": "Untitled4.ipynb",
      "provenance": []
    },
    "kernelspec": {
      "name": "python3",
      "display_name": "Python 3"
    },
    "language_info": {
      "name": "python"
    }
  },
  "cells": [
    {
      "cell_type": "code",
      "metadata": {
        "colab": {
          "base_uri": "https://localhost:8080/"
        },
        "id": "Zf01TL0qmo91",
        "outputId": "f614b479-73b9-439b-ae3e-cc525d13dfe3"
      },
      "source": [
        "# 7. Generate 3 random integers between 100 and 999 which is divisible by 5.\n",
        "\n",
        "import random\n",
        "print(\"3 random integers between 100 and 999 which is divisible by 5:\")\n",
        "for num in range(3):\n",
        "  print(random.randrange(100,999,5),end=',')\n"
      ],
      "execution_count": 1,
      "outputs": [
        {
          "output_type": "stream",
          "name": "stdout",
          "text": [
            "3 random integers between 100 and 999 which is divisible by 5:\n",
            "990,290,335,"
          ]
        }
      ]
    }
  ]
}