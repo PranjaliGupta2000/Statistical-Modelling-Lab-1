{
  "nbformat": 4,
  "nbformat_minor": 0,
  "metadata": {
    "colab": {
      "name": "Untitled5.ipynb",
      "provenance": []
    },
    "kernelspec": {
      "name": "python3",
      "display_name": "Python 3"
    },
    "language_info": {
      "name": "python"
    }
  },
  "cells": [
    {
      "cell_type": "code",
      "metadata": {
        "colab": {
          "base_uri": "https://localhost:8080/"
        },
        "id": "AcnmCwOX2zzI",
        "outputId": "de0ea226-6a44-42be-b2e1-3fa947ac8100"
      },
      "source": [
        "# 6. Given two lists create a third list by picking an odd-index element from the first list and even index elements from the second.\n",
        "\n",
        "list1 = [1,2,3,4,5,6]\n",
        "for i in range(1,len(list1),2):\n",
        "  print(list1[i])\n",
        "list2 = [7,8,9,10,11,12]\n",
        "for j in range(0, len(list2), 2):\n",
        "   print(list2[j])\n",
        "\n",
        "  \n"
      ],
      "execution_count": 5,
      "outputs": [
        {
          "output_type": "stream",
          "name": "stdout",
          "text": [
            "2\n",
            "4\n",
            "6\n",
            "7\n",
            "9\n",
            "11\n"
          ]
        }
      ]
    }
  ]
}