{
  "nbformat": 4,
  "nbformat_minor": 0,
  "metadata": {
    "colab": {
      "name": "Untitled1.ipynb",
      "provenance": []
    },
    "kernelspec": {
      "name": "python3",
      "display_name": "Python 3"
    },
    "language_info": {
      "name": "python"
    }
  },
  "cells": [
    {
      "cell_type": "code",
      "metadata": {
        "colab": {
          "base_uri": "https://localhost:8080/"
        },
        "id": "OF4_4KyZXAwa",
        "outputId": "da0cf4bb-4907-4ea3-af6b-c462d457b079"
      },
      "source": [
        "#1. Python program to calculate sum and average of first n natural numbers.\n",
        "\n",
        "n=int(input(\"Enter how many number you want to enter:\"))\n",
        "sum=0\n",
        "\n",
        "for i in range(n):\n",
        "    x=int(input(\"Enter the number:\"))\n",
        "    sum=sum+x\n",
        "\n",
        "avg=sum/n\n",
        "\n",
        "print(\"The average of the given numbers is=\",avg)"
      ],
      "execution_count": 1,
      "outputs": [
        {
          "output_type": "stream",
          "name": "stdout",
          "text": [
            "Enter how many number you want to enter:5\n",
            "Enter the number:1\n",
            "Enter the number:2\n",
            "Enter the number:3\n",
            "Enter the number:4\n",
            "Enter the number:5\n",
            "The average of the given number is= 3.0\n"
          ]
        }
      ]
    }
  ]
}