{
  "nbformat": 4,
  "nbformat_minor": 0,
  "metadata": {
    "colab": {
      "name": "Untitled5.ipynb",
      "provenance": []
    },
    "kernelspec": {
      "name": "python3",
      "display_name": "Python 3"
    },
    "language_info": {
      "name": "python"
    }
  },
  "cells": [
    {
      "cell_type": "code",
      "metadata": {
        "colab": {
          "base_uri": "https://localhost:8080/"
        },
        "id": "AcnmCwOX2zzI",
        "outputId": "922697cd-a10d-4ccc-8587-0357e2bd3cdc"
      },
      "source": [
        "# 8.Random Lottery Pick. Generate 100 random lottery tickets and pick two lucky tickets from it as a winner.\n",
        "\n",
        "import random\n",
        "lottery_ticket = []\n",
        "\n",
        "print(\"100 random lottery tickets\")\n",
        "for i in range(100):\n",
        "    lottery_ticket.append(random.randrange(1, 100))\n",
        "\n",
        "winners = random.sample(lottery_ticket, 2)\n",
        "print(\"Lucky 2 lottery tickets are\", winners)\n",
        "\n",
        "  \n"
      ],
      "execution_count": 7,
      "outputs": [
        {
          "output_type": "stream",
          "name": "stdout",
          "text": [
            "100 random lottery tickets\n",
            "Lucky 2 lottery tickets are [50, 60]\n"
          ]
        }
      ]
    }
  ]
}