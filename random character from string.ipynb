{
  "nbformat": 4,
  "nbformat_minor": 0,
  "metadata": {
    "colab": {
      "name": "Untitled5.ipynb",
      "provenance": [],
      "collapsed_sections": []
    },
    "kernelspec": {
      "name": "python3",
      "display_name": "Python 3"
    },
    "language_info": {
      "name": "python"
    }
  },
  "cells": [
    {
      "cell_type": "code",
      "metadata": {
        "colab": {
          "base_uri": "https://localhost:8080/",
          "height": 35
        },
        "id": "AcnmCwOX2zzI",
        "outputId": "1f865b60-6c7c-4e8a-a351-83c4a787c0ec"
      },
      "source": [
        "# 10.Pick a random character from a given String.\n",
        "\n",
        "import random\n",
        "string = \"Hello world. How are you\"\n",
        "array = []\n",
        "for r in string:\n",
        "  array += [r]\n",
        "\n",
        "random.choice(string)\n",
        "\n"
      ],
      "execution_count": 13,
      "outputs": [
        {
          "output_type": "execute_result",
          "data": {
            "application/vnd.google.colaboratory.intrinsic+json": {
              "type": "string"
            },
            "text/plain": [
              "'a'"
            ]
          },
          "metadata": {},
          "execution_count": 13
        }
      ]
    }
  ]
}