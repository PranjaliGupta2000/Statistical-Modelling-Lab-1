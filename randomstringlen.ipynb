{
  "nbformat": 4,
  "nbformat_minor": 0,
  "metadata": {
    "colab": {
      "name": "Untitled5.ipynb",
      "provenance": []
    },
    "kernelspec": {
      "name": "python3",
      "display_name": "Python 3"
    },
    "language_info": {
      "name": "python"
    }
  },
  "cells": [
    {
      "cell_type": "code",
      "metadata": {
        "colab": {
          "base_uri": "https://localhost:8080/"
        },
        "id": "AcnmCwOX2zzI",
        "outputId": "d39ce551-d0f2-49bf-cf5b-d0d1457d4528"
      },
      "source": [
        "# 9. Generate random String of length 5.\n",
        "\n",
        "import random\n",
        "random_string = []\n",
        "\n",
        "print(\"random String of length 5\")\n",
        "for i in range(50):\n",
        "    random_string.append(random.randrange(10000, 99999))\n",
        "\n",
        "x = random.sample(random_string, 4)\n",
        "print(\"Random, String of length 5 are\", x)\n",
        "\n"
      ],
      "execution_count": 9,
      "outputs": [
        {
          "output_type": "stream",
          "name": "stdout",
          "text": [
            "random String of length 5\n",
            "Random, String of length 5 are [32584, 22850, 34036, 45548]\n"
          ]
        }
      ]
    }
  ]
}